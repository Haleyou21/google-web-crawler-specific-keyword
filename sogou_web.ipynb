{
 "cells": [
  {
   "cell_type": "code",
   "execution_count": null,
   "id": "e74300db-50b4-4f8c-ba71-5a00927642f7",
   "metadata": {},
   "outputs": [],
   "source": [
    "import requests\n",
    "# anti-spider: fake user-agent \n",
    "\n",
    "if __name__==\"__main__\":    \n",
    "    headers={\n",
    "        'user-agent': 'Mozilla/5.0 (Macintosh; Intel Mac OS X 10_15_7) AppleWebKit/537.36 (KHTML, like Gecko) Chrome/113.0.0.0 Safari/537.36'\n",
    "    }\n",
    "    url='https://www.google.com.hk/search'\n",
    "    kw=input('enter a word:')\n",
    "    param={\n",
    "        'query':kw\n",
    "    }\n",
    "   \n",
    "    response=requests.get(url=url, params=param, headers=headers)\n",
    "    \n",
    "    page_text=response.text\n",
    "    filename=kw+'.html'\n",
    "    with open(filename, 'w', encoding='utf-8') as fp:\n",
    "        fp.write(page_text)\n",
    "    print(filename, 'success')"
   ]
  }
 ],
 "metadata": {
  "kernelspec": {
   "display_name": "Python 3 (ipykernel)",
   "language": "python",
   "name": "python3"
  },
  "language_info": {
   "codemirror_mode": {
    "name": "ipython",
    "version": 3
   },
   "file_extension": ".py",
   "mimetype": "text/x-python",
   "name": "python",
   "nbconvert_exporter": "python",
   "pygments_lexer": "ipython3",
   "version": "3.9.12"
  }
 },
 "nbformat": 4,
 "nbformat_minor": 5
}
